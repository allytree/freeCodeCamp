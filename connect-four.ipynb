{
 "metadata": {
  "language_info": {
   "codemirror_mode": {
    "name": "ipython",
    "version": 3
   },
   "file_extension": ".py",
   "mimetype": "text/x-python",
   "name": "python",
   "nbconvert_exporter": "python",
   "pygments_lexer": "ipython3",
   "version": "3.9.5"
  },
  "orig_nbformat": 2,
  "kernelspec": {
   "name": "python395jvsc74a57bd03c7fb588ec941ff4c0fd42fff1e30437950575ecf9ca03449ee026d12153a68c",
   "display_name": "Python 3.9.5 64-bit ('PythonSoftwareFoundation.Python.3.9_qbz5n2kfra8p0')"
  },
  "metadata": {
   "interpreter": {
    "hash": "3c7fb588ec941ff4c0fd42fff1e30437950575ecf9ca03449ee026d12153a68c"
   }
  }
 },
 "nbformat": 4,
 "nbformat_minor": 2,
 "cells": [
  {
   "cell_type": "code",
   "execution_count": 29,
   "metadata": {},
   "outputs": [
    {
     "output_type": "stream",
     "name": "stdout",
     "text": [
      "this is my value of c: 0 and this is my value of r: 0\nthis is my value of c: 0 and this is my value of r: 1\nthis is my value of c: 0 and this is my value of r: 2\nthis is my value of c: 1 and this is my value of r: 0\nthis is my value of c: 1 and this is my value of r: 1\nthis is my value of c: 1 and this is my value of r: 2\nthis is my value of c: 2 and this is my value of r: 0\nthis is my value of c: 2 and this is my value of r: 1\nthis is my value of c: 2 and this is my value of r: 2\n"
     ]
    }
   ],
   "source": [
    "ROW_COUNT = 3\n",
    "COLUMN_COUNT = 6\n",
    "for c in range(COLUMN_COUNT-3):\n",
    "    for r in range(ROW_COUNT):\n",
    "        print(f\"this is my value of c: {c} and this is my value of r: {r}\")"
   ]
  },
  {
   "cell_type": "code",
   "execution_count": 21,
   "metadata": {},
   "outputs": [
    {
     "output_type": "stream",
     "name": "stdout",
     "text": [
      "numer is: 3\n"
     ]
    }
   ],
   "source": [
    "x = 3\n",
    "print(\"numer is: \" + str(x))"
   ]
  },
  {
   "cell_type": "code",
   "execution_count": 23,
   "metadata": {},
   "outputs": [
    {
     "output_type": "stream",
     "name": "stdout",
     "text": [
      "numer is: 3\n"
     ]
    }
   ],
   "source": [
    "x = 3\n",
    "print(f\"numer is: {x}\")"
   ]
  },
  {
   "cell_type": "code",
   "execution_count": 2,
   "metadata": {},
   "outputs": [
    {
     "output_type": "execute_result",
     "data": {
      "text/plain": [
       "1"
      ]
     },
     "metadata": {},
     "execution_count": 2
    }
   ],
   "source": [
    "x = 0\n",
    "x + 1"
   ]
  }
 ]
}